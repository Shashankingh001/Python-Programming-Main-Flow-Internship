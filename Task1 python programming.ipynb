{
 "cells": [
  {
   "cell_type": "code",
   "execution_count": 3,
   "id": "e5d5cd9c-da94-4e08-b84f-9e607834f2e6",
   "metadata": {},
   "outputs": [],
   "source": [
    "import pandas as pd"
   ]
  },
  {
   "cell_type": "code",
   "execution_count": 6,
   "id": "9eaecbd9-4ae2-4966-a8ac-a5d4948232c0",
   "metadata": {},
   "outputs": [
    {
     "name": "stdout",
     "output_type": "stream",
     "text": [
      "Updated List: [1, 5, 7, 'hahaha', 8, 15]\n"
     ]
    }
   ],
   "source": [
    "#creating a list \n",
    "my_list = [1,2,5,7,8]\n",
    "\n",
    "#adding an element to the list \n",
    "my_list.append(9)\n",
    "\n",
    "#removing an element from the list \n",
    "my_list.remove(2)\n",
    "\n",
    "#modifying an element in the list \n",
    "my_list[4] = 15\n",
    "\n",
    "#inserting an element in our list \n",
    "my_list.insert(3, \"hahaha\")\n",
    "\n",
    "print(\"Updated List:\", my_list)"
   ]
  },
  {
   "cell_type": "code",
   "execution_count": 8,
   "id": "312216b4-22bf-4a05-b51a-8ad80510a40d",
   "metadata": {},
   "outputs": [
    {
     "name": "stdout",
     "output_type": "stream",
     "text": [
      "Updated Dictionary: {'name': 'Gaurvi', 'city': 'Faridabad', 'gender': 'Female'}\n"
     ]
    }
   ],
   "source": [
    "#creating a dictionary\n",
    "my_dict = {'name' : 'Gaurvi' , 'age': 52, 'city': 'Delhi'}\n",
    "\n",
    "#adding a key-value pair to the dictionary\n",
    "my_dict['gender'] = 'Female'\n",
    "\n",
    "#removing a key-value pair from the dictionary\n",
    "del my_dict['age']\n",
    "\n",
    "#modifying a value in the dictionary\n",
    "my_dict['city'] = 'Faridabad'\n",
    "\n",
    "print(\"Updated Dictionary:\", my_dict)"
   ]
  },
  {
   "cell_type": "code",
   "execution_count": 20,
   "id": "07d31c4a-9c64-4f10-9ae5-8227d39d9142",
   "metadata": {},
   "outputs": [
    {
     "name": "stdout",
     "output_type": "stream",
     "text": [
      "(1, 2, 9)\n"
     ]
    }
   ],
   "source": [
    "# Original Tuple \n",
    "original_tuple = (1, 2, 3)\n",
    "\n",
    "# Adding a new element to the tuple\n",
    "new_element = 5\n",
    "updated_tuple = original_tuple + (new_element,)\n",
    "\n",
    "# Removing an element from the tuple \n",
    "updated_tuple = original_tuple[:1] + original_tuple[3:]\n",
    "\n",
    "#Modifying an element in the tuple\n",
    "modified_element = 9\n",
    "updated_tuple = original_tuple[:2] + (modified_element,) + original_tuple[3:]\n",
    "\n",
    "print(updated_tuple)\n"
   ]
  },
  {
   "cell_type": "code",
   "execution_count": 32,
   "id": "475a9c01-5b73-4907-9020-f3874df4246e",
   "metadata": {},
   "outputs": [
    {
     "name": "stdout",
     "output_type": "stream",
     "text": [
      "(1, 2, 9)\n"
     ]
    }
   ],
   "source": [
    "my_tuple = (6,7,8,9)\n",
    "\n",
    "#add_tuple\n",
    "update_tuple = my_tuple[:1] + my_tuple[3:]\n",
    "\n",
    "print(updated_tuple)"
   ]
  }
 ],
 "metadata": {
  "kernelspec": {
   "display_name": "Python 3 (ipykernel)",
   "language": "python",
   "name": "python3"
  },
  "language_info": {
   "codemirror_mode": {
    "name": "ipython",
    "version": 3
   },
   "file_extension": ".py",
   "mimetype": "text/x-python",
   "name": "python",
   "nbconvert_exporter": "python",
   "pygments_lexer": "ipython3",
   "version": "3.12.4"
  }
 },
 "nbformat": 4,
 "nbformat_minor": 5
}
